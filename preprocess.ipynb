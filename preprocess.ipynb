{
 "cells": [
  {
   "cell_type": "markdown",
   "metadata": {},
   "source": [
    "Step 1 preprocessing the data\n"
   ]
  },
  {
   "cell_type": "code",
   "execution_count": 8,
   "metadata": {},
   "outputs": [
    {
     "name": "stdout",
     "output_type": "stream",
     "text": [
      "Error processing CSV file: name 'chunk_size' is not defined\n"
     ]
    }
   ],
   "source": [
    "import pandas as pd\n",
    "import re\n",
    "import nltk\n",
    "from nltk.corpus import stopwords\n",
    "\n",
    "# Make sure you have the stopwords downloaded\n",
    "#nltk.download('stopwords')\n",
    "\n",
    "stop_words = set(stopwords.words('english')) \n",
    "\n",
    "#function to clean the data along with it removing the duplicates\n",
    "def clean_text(text):\n",
    "    if isinstance(text, str):\n",
    "        #applying lowercase\n",
    "        text = text.lower()\n",
    "        \n",
    "        #removingspecial characters and punctuation\n",
    "        text = re.sub(r'[^\\w\\s]', '', text)\n",
    "        \n",
    "        #removing spaces\n",
    "        text = re.sub(r'\\s+', ' ', text)\n",
    "        \n",
    "        #removing leading spaces\n",
    "        text = text.strip()\n",
    "        \n",
    "       #removing the stop words, extracted earlier\n",
    "        text = ' '.join([word for word in text.split() if word not in stop_words])\n",
    "        \n",
    "        return text\n",
    "    else:\n",
    "        return ''  \n",
    "try:\n",
    "    chunks_list = []\n",
    "    \n",
    "    for chunk in pd.read_csv(r\"D:\\\\university\\\\semester4\\\\Big-data\\\\assignment_2\\\\enwiki-20170820.csv\", chunksize=chunk_size, low_memory=False, encoding='utf-8'):\n",
    "        chunk = chunk.drop_duplicates(subset='ARTICLE_ID', keep='first')\n",
    "        chunk['SECTION_TEXT'] = chunk['SECTION_TEXT'].apply(clean_text)\n",
    "        \n",
    "        #filtering out duplicate rows\n",
    "        chunk = chunk[chunk['ARTICLE_ID'] != chunk['TITLE']]\n",
    "        \n",
    "        chunks_list.append(chunk)\n",
    "    \n",
    "    df = pd.concat(chunks_list, ignore_index=True)\n",
    "    df.drop_duplicates(subset='ARTICLE_ID', keep='first', inplace=True)\n",
    "\n",
    "    #saving in anither file to test only\n",
    "    df.to_csv('preprocessed_data.csv', index=False)\n",
    "\n",
    "    print(df.head())\n",
    "\n",
    "except Exception as e:\n",
    "    print(f\"Error processing CSV file: {e}\")\n"
   ]
  },
  {
   "cell_type": "markdown",
   "metadata": {},
   "source": [
    "Step 2 Tokenizing the text, to the section_text column only"
   ]
  },
  {
   "cell_type": "code",
   "execution_count": 5,
   "metadata": {},
   "outputs": [],
   "source": [
    "\n",
    "df['TOKENIZED_SECTION_TEXT'] = df['SECTION_TEXT'].apply(tokenize_text)\n",
    "\n",
    "#to test the output\n",
    "print(df[['SECTION_TEXT', 'TOKENIZED_SECTION_TEXT']].head())\n"
   ]
  }
 ],
 "metadata": {
  "kernelspec": {
   "display_name": "Python 3",
   "language": "python",
   "name": "python3"
  },
  "language_info": {
   "codemirror_mode": {
    "name": "ipython",
    "version": 3
   },
   "file_extension": ".py",
   "mimetype": "text/x-python",
   "name": "python",
   "nbconvert_exporter": "python",
   "pygments_lexer": "ipython3",
   "version": "3.11.5"
  }
 },
 "nbformat": 4,
 "nbformat_minor": 2
}
