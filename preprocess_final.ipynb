{
 "cells": [
  {
   "cell_type": "markdown",
   "metadata": {},
   "source": [
    "Step 1 preprocessing\n",
    "\n",
    "includes lowercase,puntuation & special characters, numbers spaces, stopwords, lemmentization and non-english words"
   ]
  },
  {
   "cell_type": "code",
   "execution_count": null,
   "metadata": {},
   "outputs": [],
   "source": [
    "import pandas as pd\n",
    "import re\n",
    "import nltk\n",
    "from nltk.corpus import stopwords\n",
    "from nltk.stem import LancasterStemmer, SnowballStemmer\n",
    "\n",
    "\n",
    "stop_words = set(stopwords.words('english'))\n",
    "file_path = r'D:\\\\university\\\\semester4\\\\Big-data\\\\assignment_2\\\\enwiki-20170820.csv'\n",
    "chunk_size = 1000000\n",
    "\n",
    "# Initializing stemmers\n",
    "lancaster = LancasterStemmer()\n",
    "snowball = SnowballStemmer('english')\n",
    "\n",
    "# Function to clean the data \n",
    "def clean_text(text):\n",
    "    if isinstance(text, str):\n",
    "        #lowercase\n",
    "        text = text.lower()\n",
    "\n",
    "        #special characters and punctuation\n",
    "        text = re.sub(r'[^\\w\\s]', '', text)\n",
    "\n",
    "        #numbers\n",
    "        text = re.sub(r'\\d+', '', text)\n",
    "\n",
    "        #spaces\n",
    "        text = re.sub(r'\\s+', ' ', text)\n",
    "\n",
    "        # leading spaces\n",
    "        text = text.strip()\n",
    "\n",
    "        # stop words, extracted earlier\n",
    "        text = ' '.join([word for word in text.split() if word not in stop_words])\n",
    "\n",
    "        return text\n",
    "    else:\n",
    "        return ''  \n",
    "\n",
    "#Lancaster lemmatization\n",
    "def lancaster_lemmatize(text):\n",
    "    if isinstance(text, str):\n",
    "        return ' '.join([lancaster.stem(word) for word in text.split()])\n",
    "    else:\n",
    "        return ''\n",
    "\n",
    "#non-English languages using Snowball stemmer\n",
    "def remove_non_english(text):\n",
    "    if isinstance(text, str):\n",
    "        # Tokenize \n",
    "        words = text.split()\n",
    "       \n",
    "        english_words = [snowball.stem(word) for word in words if snowball.stem(word) in stop_words]\n",
    "        return ' '.join(english_words)\n",
    "    else:\n",
    "        return ''\n",
    "\n",
    "try:\n",
    "    chunks_list = []\n",
    "    \n",
    "    for chunk in pd.read_csv(file_path, chunksize=chunk_size, low_memory=False, encoding='utf-8'):\n",
    "        #chunk = chunk.drop_duplicates(subset='ARTICLE_ID', keep='first')\n",
    "        chunk = chunk.drop_duplicates(subset=['ARTICLE_ID', 'TITLE'], keep='first')\n",
    "\n",
    "        \n",
    "        chunks_list.append(chunk)\n",
    "    \n",
    "    df = pd.concat(chunks_list, ignore_index=True)\n",
    "\n",
    "    # Saving in another file for testing only\n",
    "    df.to_csv('preprocessed_data.csv', index=False)\n",
    "\n",
    "    print(df.head())\n",
    "\n",
    "except Exception as e:\n",
    "    print(f\"Error processing CSV file: {e}\")\n"
   ]
  },
  {
   "cell_type": "code",
   "execution_count": null,
   "metadata": {},
   "outputs": [],
   "source": [
    "# Cleaning text\n",
    "chunk['SECTION_TEXT'] = chunk['SECTION_TEXT'].apply(clean_text)\n",
    "df = pd.concat(chunks_list, ignore_index=True)\n",
    "df.to_csv('preprocessed_data.csv', index=False)\n",
    "chunks_list.append(chunk)"
   ]
  },
  {
   "cell_type": "code",
   "execution_count": null,
   "metadata": {},
   "outputs": [],
   "source": [
    "# Applying Snowball stemming \n",
    "chunk['SECTION_TEXT'] = chunk['SECTION_TEXT'].apply(remove_non_english)\n",
    "\n",
    "df = pd.concat(chunks_list, ignore_index=True)\n",
    "df.to_csv('preprocessed_data.csv', index=False)\n",
    "chunks_list.append(chunk)\n",
    "\n",
    " "
   ]
  },
  {
   "cell_type": "code",
   "execution_count": null,
   "metadata": {},
   "outputs": [],
   "source": [
    "# Applying Lancaster lemmatization\n",
    "chunk['SECTION_TEXT'] = chunk['SECTION_TEXT'].apply(lancaster_lemmatize)\n",
    "\n",
    "    \n",
    "df = pd.concat(chunks_list, ignore_index=True)\n",
    "chunks_list.append(chunk)\n",
    "df.to_csv('preprocessed_data.csv', index=False)"
   ]
  }
 ],
 "metadata": {
  "kernelspec": {
   "display_name": "Python 3",
   "language": "python",
   "name": "python3"
  },
  "language_info": {
   "codemirror_mode": {
    "name": "ipython",
    "version": 3
   },
   "file_extension": ".py",
   "mimetype": "text/x-python",
   "name": "python",
   "nbconvert_exporter": "python",
   "pygments_lexer": "ipython3",
   "version": "3.11.5"
  }
 },
 "nbformat": 4,
 "nbformat_minor": 2
}
